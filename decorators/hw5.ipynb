{
 "cells": [
  {
   "cell_type": "code",
   "execution_count": 1,
   "id": "08a9dc72",
   "metadata": {},
   "outputs": [],
   "source": [
    "import time\n",
    "import requests\n",
    "import re\n",
    "from random import randint\n",
    "\n",
    "import functools"
   ]
  },
  {
   "cell_type": "markdown",
   "id": "0b76270b",
   "metadata": {},
   "source": [
    "### Первые три декоратора и результат их работы, аналогично с приведённым приером"
   ]
  },
  {
   "cell_type": "code",
   "execution_count": 2,
   "id": "20aa8296",
   "metadata": {},
   "outputs": [],
   "source": [
    "def benchmark(func):\n",
    "    @functools.wraps(func)\n",
    "    def wrapper(*args, **kwargs):\n",
    "        start = time.time()\n",
    "        result = func(*args, **kwargs)\n",
    "        end = time.time()\n",
    "        print(f'Время выполнения функции {func.__name__}: {end-start:.6f} секунд')\n",
    "        return result\n",
    "    return wrapper\n",
    "\n",
    "def logging(func):\n",
    "    def wrapper(*args, **kwargs):\n",
    "        print(\"Функция вызвана с параметрами:\", args, kwargs)\n",
    "        return func(*args, **kwargs)\n",
    "    return wrapper\n",
    "\n",
    "def counter(func):\n",
    "    def wrapper(*args, **kwargs):\n",
    "        wrapper.call_count += 1\n",
    "        print(f\"Функция была вызвана: {wrapper.call_count} раз\")\n",
    "        return func(*args, **kwargs)\n",
    "\n",
    "    wrapper.call_count = 0\n",
    "    return wrapper"
   ]
  },
  {
   "cell_type": "code",
   "execution_count": 3,
   "id": "4b39c0a4",
   "metadata": {},
   "outputs": [
    {
     "name": "stdout",
     "output_type": "stream",
     "text": [
      "Функция вызвана с параметрами: ('whole',) {}\n",
      "Функция была вызвана: 1 раз\n",
      "Время выполнения функции wrapper: 2.337544 секунд\n",
      "Cлово whole встречается 176 раз\n"
     ]
    }
   ],
   "source": [
    "@benchmark\n",
    "@logging\n",
    "@counter\n",
    "def word_count(word, url='https://www.gutenberg.org/files/2638/2638-0.txt'):\n",
    "    \n",
    "    # отправляем запрос в библиотеку Gutenberg и забираем текст\n",
    "    raw = requests.get(url).text\n",
    "\n",
    "    # заменяем в тексте все небуквенные символы на пробелы\n",
    "    processed_book = re.sub('[\\W]+' , ' ', raw).lower()\n",
    "    \n",
    "    # считаем\n",
    "    cnt = len(re.findall(word.lower(), processed_book))\n",
    "\n",
    "    return f\"Cлово {word} встречается {cnt} раз\"\n",
    "\n",
    "print(word_count('whole'))"
   ]
  },
  {
   "cell_type": "markdown",
   "id": "0ec3d576",
   "metadata": {},
   "source": [
    "### Декоратор memo и пример его работы на расчёте 42 числа Фибоначчи (больше брать страшно, мой калькулятор на рекурсии долго сидит)"
   ]
  },
  {
   "cell_type": "code",
   "execution_count": 4,
   "id": "51040c1a",
   "metadata": {},
   "outputs": [],
   "source": [
    "def memo(func):\n",
    "    mem = dict()\n",
    "    def wrapper(*args):\n",
    "        if args not in mem:\n",
    "            mem[args] = func(*args)\n",
    "        return mem[args]\n",
    "\n",
    "    return wrapper"
   ]
  },
  {
   "cell_type": "code",
   "execution_count": 6,
   "id": "adc5cd78",
   "metadata": {},
   "outputs": [
    {
     "name": "stdout",
     "output_type": "stream",
     "text": [
      "CPU times: total: 55.7 s\n",
      "Wall time: 55.7 s\n"
     ]
    },
    {
     "data": {
      "text/plain": [
       "267914296"
      ]
     },
     "execution_count": 6,
     "metadata": {},
     "output_type": "execute_result"
    }
   ],
   "source": [
    "%%time\n",
    "\n",
    "def fibonacci(n):\n",
    "    if n < 2:\n",
    "        return n\n",
    "    return fibonacci(n-2) + fibonacci(n-1)\n",
    "fibonacci(42)"
   ]
  },
  {
   "cell_type": "code",
   "execution_count": 7,
   "id": "11cf6b9d",
   "metadata": {},
   "outputs": [
    {
     "name": "stdout",
     "output_type": "stream",
     "text": [
      "CPU times: total: 0 ns\n",
      "Wall time: 0 ns\n"
     ]
    },
    {
     "data": {
      "text/plain": [
       "267914296"
      ]
     },
     "execution_count": 7,
     "metadata": {},
     "output_type": "execute_result"
    }
   ],
   "source": [
    "%%time\n",
    "\n",
    "@memo\n",
    "def fibonacci(n):\n",
    "    if n < 2:\n",
    "        return n\n",
    "    return fibonacci(n-2) + fibonacci(n-1)\n",
    "fibonacci(42)"
   ]
  },
  {
   "cell_type": "code",
   "execution_count": null,
   "id": "896b3439",
   "metadata": {},
   "outputs": [],
   "source": []
  }
 ],
 "metadata": {
  "kernelspec": {
   "display_name": "Python 3 (ipykernel)",
   "language": "python",
   "name": "python3"
  },
  "language_info": {
   "codemirror_mode": {
    "name": "ipython",
    "version": 3
   },
   "file_extension": ".py",
   "mimetype": "text/x-python",
   "name": "python",
   "nbconvert_exporter": "python",
   "pygments_lexer": "ipython3",
   "version": "3.11.5"
  }
 },
 "nbformat": 4,
 "nbformat_minor": 5
}
